{
 "cells": [
  {
   "cell_type": "markdown",
   "metadata": {},
   "source": [
    "# 🧱 Semantic Kernel for Developers (C#)\n",
    "`Author: Arafat Tehsin`\n",
    "\n",
    "Get ready to unleash your inner AI wizard as we take you on a journey from Prompt and Native functions to planners and connectors (yes, we’re getting smart here!) and even throw in some Azure Open / OpenAI’s gpt-turbo and DALL-E 3 models for good measure. Strap in folks, because we’re about to turn up the natural language heat!"
   ]
  },
  {
   "cell_type": "markdown",
   "metadata": {},
   "source": [
    "---\n",
    "\n",
    "```\n",
    "Inspired by the great designers at the Microsoft OCTO (Semantic Kernel)\n",
    "```\n",
    "### Reminder: This 📘 `Polyglot` notebook needs to be run from VS Code with below pre-requisites. \n",
    "\n",
    "The following software needs to be installed on your computer:\n",
    "\n",
    "* ✅ [Visual Studio Code](https://code.visualstudio.com/Download)\n",
    "* ✅ The latest [.Net 7.0 SDK](https://dotnet.microsoft.com/en-us/download) \n",
    "* ✅ [Polyglot Notebooks for VS Code](https://marketplace.visualstudio.com/items?itemName=ms-dotnettools.dotnet-interactive-vscode?)\n",
    "\n",
    "When the three items above are installed, the code notebooks should be formatted nicely with code blocks that have a little ▶️ (play) button next to them when you hover over the code. The \"Polyglot Notebooks for VS Code\" extension is what lets you run all the code snippets from within VS Code and serves as a little playground for your initial Semantic Kernel learning.\n",
    "\n",
    "Apart from installing software, you will need to have an API key to access the OpenAI models. \n",
    "\n",
    "* ✅ [Azure OpenAI Service](https://learn.microsoft.com/en-us/azure/cognitive-services/openai/quickstart?WT.mc_id=AI-MVP-5003464). Access your API key on Azure Open AI Service with [these instructions](https://learn.microsoft.com/en-us/azure/cognitive-services/openai/reference?WT.mc_id=AI-MVP-5003464).\n",
    "\n",
    "This notebook also requires you to create a deployment of [models](https://learn.microsoft.com/en-us/azure/cognitive-services/openai/concepts/models?WT.mc_id=AI-MVP-5003464) 🧪. This means that your fresh Azure OpenAI Service won't have any model right now. \n",
    "* ✅ You can create your deployments from [these docs](https://learn.microsoft.com/en-us/azure/cognitive-services/openai/how-to/create-resource?pivots=web-portal&WT.mc_id=AI-MVP-5003464). The suggestion is to have below deployments:\n",
    "\n",
    "    -  `gpt-4`- GPT-4\n",
    "    - `dalle-3` - DALL-3\n",
    "    - `ada` - text-embedding-002\n",
    "\n",
    "🔑 Keep your keys and endpoints handy for these deployments as we will need them shortly.\n",
    "\n",
    "#### 📘 After you have achieved all the 👆 prerequisites, open the notebooks in this repo from within Visual Studio Code and you are ready to to go!\n",
    "---"
   ]
  },
  {
   "cell_type": "markdown",
   "metadata": {},
   "source": [
    "### Now, let's try this out\n",
    "\n",
    "👋 In the event that you hit \"play\" below on the code block and it asks you to:\n",
    " \n",
    "```\n",
    "Select kernel for <filename>\n",
    "----\n",
    ".NET Interactive 👈\n",
    "Select Another Kernel...\n",
    "----\n",
    "```\n",
    "\n",
    "Choose `.NET Interactive` and you're good to go. That selection lets you magically run the Generative AI notebooks."
   ]
  },
  {
   "cell_type": "code",
   "execution_count": null,
   "metadata": {
    "dotnet_interactive": {
     "language": "csharp"
    },
    "polyglot_notebook": {
     "kernelName": "csharp"
    },
    "vscode": {
     "languageId": "polyglot-notebook"
    }
   },
   "outputs": [],
   "source": [
    "// 👈 you should see a ▶️ (play) button on \n",
    "// the left if you click in this block, \n",
    "// or just hover over this block\n",
    "// CLICK IT! And you should see an output\n",
    "// below this code block.\n",
    "\n",
    "Console.WriteLine(\"Microphone test. Check one. Two. Three.\");"
   ]
  },
  {
   "cell_type": "markdown",
   "metadata": {},
   "source": [
    "Now, over here you will be asked about your endpoints, API key and the deployment name you chose for Azure OpenAI. For OpenAI, the deployment names and endpoints are already setup. All you need to provide is the API key and uncomment the last line to provide orgID."
   ]
  },
  {
   "cell_type": "code",
   "execution_count": null,
   "metadata": {
    "dotnet_interactive": {
     "language": "csharp"
    },
    "polyglot_notebook": {
     "kernelName": "csharp"
    },
    "vscode": {
     "languageId": "polyglot-notebook"
    }
   },
   "outputs": [],
   "source": [
    "#!import Settings.cs\n",
    "\n",
    "bool useAzureOpenAI = true;\n",
    "\n",
    "await Settings.AskAzureEndpoint(useAzureOpenAI);\n",
    "await Settings.AskModel(useAzureOpenAI);\n",
    "await Settings.AskApiKey(useAzureOpenAI);\n",
    "\n",
    "// Uncomment this if you're using OpenAI and need to set the Org Id\n",
    "// await Settings.AskOrg(useAzureOpenAI);"
   ]
  },
  {
   "cell_type": "markdown",
   "metadata": {},
   "source": [
    "In case you want to reset your settings so that you can update your API keys again, just follow the below instructions."
   ]
  },
  {
   "cell_type": "code",
   "execution_count": null,
   "metadata": {
    "dotnet_interactive": {
     "language": "csharp"
    },
    "polyglot_notebook": {
     "kernelName": "csharp"
    },
    "vscode": {
     "languageId": "polyglot-notebook"
    }
   },
   "outputs": [],
   "source": [
    "#!import Settings.cs\n",
    "\n",
    "// Uncomment this line to reset your settings and delete the file from disk.\n",
    "// Settings.Reset();"
   ]
  },
  {
   "cell_type": "markdown",
   "metadata": {},
   "source": [
    "## Get a 🔥 .NET Interactive kernel ready for you to load the Semantic Kernel package\n",
    "\n",
    "This will create a client so you don't have to initialise it again. You can read more about the [Semantic Kernel SDK](https://devblogs.microsoft.com/semantic-kernel/introducing-the-v1-0-0-beta1-for-the-net-semantic-kernel-sdk/) here.\n",
    "\n",
    "### Wait! What's Semantic Kernel? 🤷‍♂️\n",
    "\n",
    "Think of Microsoft’s Semantic Kernel as a big box of Lego blocks. Each block represents a different AI service, like understanding language, answering questions, or even creating art.\n",
    "\n",
    "As a developer, you can pick and choose which blocks you want to use to build your application, just like you would build a Lego model. You can combine these blocks in any way you want to create something unique.\n",
    "\n",
    "The best part is that Semantic Kernel is open-source. This means that not only can you use all these blocks for free, but you can also create your own blocks and share them with others!\n",
    "\n",
    "So, if you’re building an application and you want it to have some cool AI features, Semantic Kernel gives you the tools to do that. It’s like having a superpower for your app!\n",
    "\n",
    "`The below code-snippets are created on the basis of the assumption that you're already a developer who has a little bit of understanding of AI on API services such as OpenAI, Azure OpenAI Service etc.`"
   ]
  },
  {
   "cell_type": "code",
   "execution_count": null,
   "metadata": {
    "dotnet_interactive": {
     "language": "csharp"
    },
    "polyglot_notebook": {
     "kernelName": "csharp"
    },
    "vscode": {
     "languageId": "polyglot-notebook"
    }
   },
   "outputs": [],
   "source": [
    "// Getting the latest package released on 12th Dec, 2023 - https://www.nuget.org/packages/Microsoft.SemanticKernel/\n",
    "#r \"nuget: Microsoft.SemanticKernel, 1.0.1\"\n",
    "#r \"nuget: Microsoft.SemanticKernel.Plugins.Core, 1.0.1-alpha\"\n",
    "\n",
    "#!import Settings.cs\n",
    "\n",
    "using Microsoft.SemanticKernel;\n",
    "using Microsoft.SemanticKernel.Plugins.Core;\n",
    "using Kernel = Microsoft.SemanticKernel.Kernel;\n",
    "\n",
    "//Create Kernel builder\n",
    "var builder = Kernel.CreateBuilder();\n",
    "\n",
    "// Configure AI backend used by the kernel\n",
    "var (useAzureOpenAI, model, azureEndpoint, apiKey, orgId) = Settings.LoadFromFile();\n",
    "if (useAzureOpenAI)\n",
    "    builder.AddAzureOpenAIChatCompletion(model, azureEndpoint, apiKey);\n",
    "else\n",
    "    builder.AddOpenAIChatCompletion(model, apiKey, orgId);"
   ]
  },
  {
   "cell_type": "markdown",
   "metadata": {},
   "source": [
    "`In order to build agents, bots or own Copilot experiences for your customers, you need plugins. 👇`"
   ]
  },
  {
   "cell_type": "markdown",
   "metadata": {},
   "source": [
    "## 🔨 🧠 AI Plugins\n",
    "\n",
    "AI plugins are like a set of instructions or tasks that your application can perform. You can think of them as a recipe book for your application. Each recipe (or plugin) contains a list of ingredients (or functions) and steps (or triggers and actions) that your application can use to accomplish a specific task.\n",
    "\n",
    "For example, let's say you're building a chatbot and you want it to be able to answer questions about the weather. You could create a plugin that contains a function for fetching the current weather data from a weather API and another function for formatting that data into a user-friendly message.\n",
    "\n",
    "Plugins are the fundamental building blocks of Semantic Kernel and can interoperate with plugins in ChatGPT, Bing, and Microsoft 365. With plugins, you can encapsulate capabilities into a single unit of functionality that can then be run by the kernel. Plugins can consist of both native code and requests to AI services via prompts.\n",
    "\n",
    "This means any plugins you build can be exported so they are usable in ChatGPT, Bing, and Microsoft 365. This allows you to increase the reach of your AI capabilities without rewriting code. It also means that plugins built for ChatGPT, Bing, and Microsoft 365 can be imported into Semantic Kernel seamlessly.\n",
    "\n",
    "### 👂 🗣️ Prompts\n",
    "\n",
    "Think of Prompts (or Prompt Functions) as the individual steps in a recipe. Each step (or function) tells your application what to do and how to do it.\n",
    "\n",
    "For example, let’s say you’re building a chatbot and you want it to be able to answer questions about the weather so you can plan your beach trip. One of your prompts might be a step that fetches the current weather data from a weather API. Another prompt might be a step that takes that weather data and recommend the ideal timings for the beach based upon the weather.\n",
    "\n",
    "Prompts are used in plugins, which are like the full recipes in your recipe book. Each plugin can contain multiple prompts and each prompt can be triggered by certain events or conditions.\n",
    "\n",
    "So, if you’re building an application and you want it to have some cool AI features, Prompts give you the tools to do that. They’re like the individual steps that make up your app's recipe for success.\n",
    "\n",
    "### 🎬 🔍 ✍️ Native Functions \n",
    "\n",
    "Think of Native Functions in Semantic Kernel as the kitchen tools you use when following a recipe. These could be things like a blender, an oven or a knife. They’re the tools that allow you to interact with your ingredients (data) and transform them in different ways.\n",
    "\n",
    "For example, let’s say you’re building a chatbot and one of your recipes (plugins) is for baking a cake. One of your steps (Prompts) might be to mix the ingredients together (combine data), but you can’t do that with your hands. You need a tool (Native Function) like a blender.\n",
    "\n",
    "So, you could create a Native Function that takes your ingredients (data), uses the blender (performs an operation on the data) and returns a cake batter (the result of the operation).\n",
    "\n",
    "Just like in cooking, having the right tools can make all the difference. That’s why Semantic Kernel allows you to create your own Native Functions. So, whether you’re baking a cake or building an application, you’ll always have the tools you need to get the job done!"
   ]
  },
  {
   "cell_type": "markdown",
   "metadata": {},
   "source": [
    "### 🗺️ Find the capital\n",
    "\n",
    "In this example, we have demonsrated a way to find out the capital city by just providing a country name. This is a beginning to what you can achieve with Semantic Kernel with the minimum knowledge of this framework."
   ]
  },
  {
   "cell_type": "markdown",
   "metadata": {},
   "source": [
    "Let's import the plugin and all its functions (prompts)"
   ]
  },
  {
   "cell_type": "code",
   "execution_count": null,
   "metadata": {
    "dotnet_interactive": {
     "language": "csharp"
    },
    "polyglot_notebook": {
     "kernelName": "csharp"
    },
    "vscode": {
     "languageId": "polyglot-notebook"
    }
   },
   "outputs": [],
   "source": [
    "Kernel kernel = builder.Build();\n",
    "\n",
    "// Load the plugin directory\n",
    "var cityPluginsDirectoryPath = Path.Combine(System.IO.Directory.GetCurrentDirectory(), \"Plugins\",\"CityPlugin\");\n",
    "\n",
    "// Load the plugin functons\n",
    "var cityPluginFunctions = kernel.ImportPluginFromPromptDirectory(cityPluginsDirectoryPath);\n"
   ]
  },
  {
   "cell_type": "markdown",
   "metadata": {},
   "source": [
    "This is how you use a function, e.g. get the capital city name of a given country"
   ]
  },
  {
   "cell_type": "code",
   "execution_count": null,
   "metadata": {
    "dotnet_interactive": {
     "language": "csharp"
    },
    "polyglot_notebook": {
     "kernelName": "csharp"
    },
    "vscode": {
     "languageId": "polyglot-notebook"
    }
   },
   "outputs": [],
   "source": [
    "// Set-up the arguments (input)\n",
    "var arguments = new KernelArguments();\n",
    "arguments.Add(\"input\", \"Portugal\");\n",
    "\n",
    "// Invoke the plugin function\n",
    "var result = await kernel.InvokeAsync(cityPluginFunctions[\"GetCity\"], arguments);\n",
    "\n",
    "// Print the result\n",
    "Console.WriteLine(result.GetValue<string>());"
   ]
  },
  {
   "cell_type": "markdown",
   "metadata": {},
   "source": [
    "### Let's build a riddle game.\n",
    "\n",
    "Ask for a riddle by understanding the prompt (execution settings are defined within the Plugins/GuessPlugin/GetRiddle). In this example, we have requested Prompt to give us a riddle and its answer (more to come later as wy do we need an answer with it)."
   ]
  },
  {
   "cell_type": "code",
   "execution_count": null,
   "metadata": {
    "dotnet_interactive": {
     "language": "csharp"
    },
    "polyglot_notebook": {
     "kernelName": "csharp"
    },
    "vscode": {
     "languageId": "polyglot-notebook"
    }
   },
   "outputs": [],
   "source": [
    "using System.Text.Json;\n",
    "\n",
    "kernel = builder.Build();\n",
    "\n",
    "// Load the plugin directory\n",
    "var guessPluginsDirectoryPath = Path.Combine(System.IO.Directory.GetCurrentDirectory(), \"Plugins\",\"GuessPlugin\");\n",
    "\n",
    "// Load the plugin functons\n",
    "var guessPluginFunctions = kernel.ImportPluginFromPromptDirectory(guessPluginsDirectoryPath);"
   ]
  },
  {
   "cell_type": "code",
   "execution_count": null,
   "metadata": {
    "dotnet_interactive": {
     "language": "csharp"
    },
    "polyglot_notebook": {
     "kernelName": "csharp"
    },
    "vscode": {
     "languageId": "polyglot-notebook"
    }
   },
   "outputs": [],
   "source": [
    "\n",
    "// Set-up the arguments (input)\n",
    "var arguments = new KernelArguments();\n",
    "\n",
    "// Invoke the plugin function\n",
    "var result = await kernel.InvokeAsync(guessPluginFunctions[\"GetRiddle\"], arguments);\n",
    "\n",
    "// Parse the JSON object\n",
    "var riddleObject = JsonDocument.Parse(result.GetValue<string>()).RootElement;\n",
    "\n",
    "// Get a riddle question from the JSON object\n",
    "var riddle = riddleObject.GetProperty(\"riddle\").GetString();\n",
    "\n",
    "// Get an answer from the JSON object\n",
    "var answer = riddleObject.GetProperty(\"answer\").GetString();\n",
    "\n",
    "// Print the result\n",
    "Console.WriteLine(riddle + \" \" + answer);"
   ]
  },
  {
   "cell_type": "markdown",
   "metadata": {},
   "source": [
    "Not all the applications can read the filesystem this easily. For example, cross platform mobile apps or some web apps may face struggle in reading all of these flat files. Therefore, Semantic Kernel has a way to create an inline function with the same objective.\n",
    "\n",
    "An *inline function* is like a step in a recipe that you write directly in your program. It’s called *inline* because you define it right where you’re going to use it. This is really useful when you’re just starting out or testing something new, because it allows you to quickly see and change what the function is doing."
   ]
  },
  {
   "cell_type": "code",
   "execution_count": null,
   "metadata": {
    "dotnet_interactive": {
     "language": "csharp"
    },
    "polyglot_notebook": {
     "kernelName": "csharp"
    },
    "vscode": {
     "languageId": "polyglot-notebook"
    }
   },
   "outputs": [],
   "source": [
    "using Microsoft.SemanticKernel.Connectors.OpenAI;\n",
    "\n",
    "using System.Text.Json;\n",
    "\n",
    "kernel = builder.Build();\n",
    "\n",
    "// Define a prompt\n",
    "string skPrompt = @\"Ask an interesting new riddle about an apple with its answer in a below json format. It should only contain a JSON message and nothing else.\n",
    "\n",
    "                 {\n",
    "                   \"\"Question\"\": \"\"\"\",\n",
    "                   \"\"Answer\"\": \"\"\"\"\n",
    "                 }\n",
    "                 \";\n",
    "\n",
    "// Set up the execution settings (configuration of how prompt function should behave)\n",
    "var executionSettings = new OpenAIPromptExecutionSettings()\n",
    "{\n",
    "    MaxTokens = 200,\n",
    "    Temperature = 0.5\n",
    "};\n",
    "\n",
    "// // Create a new Prompt Template\n",
    "// var promptTemplateConfig = new PromptTemplateConfig(skPrompt);\n",
    "// var promptTemplateFactory = new KernelPromptTemplateFactory();\n",
    "// var promptTemplate = promptTemplateFactory.Create(promptTemplateConfig);\n",
    "\n",
    "// // Render this C# template into a format that's understood by the kernel\n",
    "// var renderedPrompt = await promptTemplate.RenderAsync(kernel);\n",
    "\n",
    "// Create a new prompt function\n",
    "var guessPluginFunction = kernel.CreateFunctionFromPrompt(skPrompt, executionSettings);\n",
    "\n",
    "// Invoke a prompt function and get the result\n",
    "var guessPluginResult = await kernel.InvokeAsync(guessPluginFunction, new());\n",
    "\n",
    "//  Parse the JSON object\n",
    "var riddleObject = JsonDocument.Parse(guessPluginResult.GetValue<string>()).RootElement;\n",
    "\n",
    "// Get a riddle from the JSON object\n",
    "var riddle = riddleObject.GetProperty(\"Question\").GetString();\n",
    "\n",
    "// Get an answer from the JSON object\n",
    "var answer = riddleObject.GetProperty(\"Answer\").GetString();\n",
    "\n",
    "// Print the result\n",
    "Console.WriteLine(riddle + \" \" + answer);"
   ]
  },
  {
   "cell_type": "markdown",
   "metadata": {},
   "source": [
    "### 🖼️ Generating Images with AI (DALL-E 3)\n",
    "\n",
    " It’s like having an artist at your fingertips - you just describe what you want and DALL-E creates it! This can be particularly useful for visualizing concepts or creating illustrative examples. This is a fun and interactive way to understand the power of AI and machine learning. Just remember, while DALL-E is incredibly powerful, it’s not perfect - the images it creates are based on its training data, so some unique or abstract requests might not turn out as expected.\n",
    "\n",
    "In the below example, we're leveraging SkiaSharp's library and trying to generate an image of a landmark by just providing the country's name. \n",
    "\n",
    "❓ How it is generating the image of the landmark, anyway?\n",
    "\n",
    "✍️ If you go to GuessPlugin/GuessWhat/skprompt.txt, you will see that we have written a below prompt:\n",
    "\n",
    "`Choose a landmark in a big city within {{$input}}. Remember that it has to be a famous which at least has a known landmark.\n",
    "The {{$input}} has to be known in terms of history, culture, and tourism.`\n",
    "\n",
    "This prompt takes the country's name and replace with `$input`. Then after replacing, it generates a little bit of description as well so that we can pass that description to generate an image. Comments in the code will tell you more. \n",
    "\n",
    "Let's start everything from the scratch again and initialise `Kernel`` once again."
   ]
  },
  {
   "cell_type": "code",
   "execution_count": null,
   "metadata": {
    "dotnet_interactive": {
     "language": "csharp"
    },
    "polyglot_notebook": {
     "kernelName": "csharp"
    },
    "vscode": {
     "languageId": "polyglot-notebook"
    }
   },
   "outputs": [],
   "source": [
    "#r \"nuget: Microsoft.SemanticKernel, 1.0.1\"\n",
    "#r \"nuget: System.Numerics.Tensors, 8.0.0\"\n",
    "#r \"nuget: SkiaSharp, 2.88.3\"\n",
    "\n",
    "#!import Utilities.cs\n",
    "\n",
    "using Microsoft.SemanticKernel;\n",
    "using Microsoft.SemanticKernel.TextToImage;\n",
    "using Microsoft.SemanticKernel.Embeddings;\n",
    "using Microsoft.SemanticKernel.Connectors.OpenAI;\n",
    "using System.Numerics.Tensors;\n",
    "\n",
    "using Kernel = Microsoft.SemanticKernel.Kernel;\n",
    "\n",
    "#pragma warning disable SKEXP0001, SKEXP0002, SKEXP0011, SKEXP0012\n",
    "\n",
    "// Load OpenAI credentials from config/settings.json\n",
    "var (useAzureOpenAI, model, azureEndpoint, apiKey, orgId) = Settings.LoadFromFile();\n",
    "\n",
    "// Configure the three AI features: text embedding (using Ada), chat completion, image generation (DALL-E 3)\n",
    "var builder = Kernel.CreateBuilder();\n",
    "\n",
    "// Add services to the kernel\n",
    "if(useAzureOpenAI)\n",
    "{\n",
    "    builder.AddAzureOpenAITextEmbeddingGeneration(\"text-embedding-ada-002\", azureEndpoint, apiKey); // You may have a different name\n",
    "    builder.AddAzureOpenAIChatCompletion(model, azureEndpoint, apiKey);\n",
    "    builder.AddAzureOpenAITextToImage(\"dall-e-3\", azureEndpoint, apiKey); // You may have a different name\n",
    "}\n",
    "else\n",
    "{\n",
    "    builder.AddOpenAITextEmbeddingGeneration(\"text-embedding-ada-002\", apiKey, orgId);\n",
    "    builder.AddOpenAIChatCompletion(model, apiKey, orgId);\n",
    "    builder.AddOpenAITextToImage(apiKey, orgId);\n",
    "}\n",
    "  \n",
    "// Build the kernel\n",
    "var kernel = builder.Build();\n",
    "\n",
    "// Get AI service instance used to generate images\n",
    "var dallE = kernel.GetRequiredService<ITextToImageService>();\n",
    "\n",
    "// Get AI service instance used to extract embedding from a text\n",
    "var textEmbedding = kernel.GetRequiredService<ITextEmbeddingGenerationService>();\n",
    "\n",
    "// Load the plugin directory\n",
    "var guessPluginsDirectoryPath = Path.Combine(System.IO.Directory.GetCurrentDirectory(), \"Plugins\",\"GuessPlugin\");\n",
    "\n",
    "// Load the plugin functons\n",
    "var guessPluginFunctions = kernel.ImportPluginFromPromptDirectory(guessPluginsDirectoryPath);\n",
    "\n",
    "// Setting up the SKContext\n",
    "var arguments = new KernelArguments();\n",
    "arguments.Add(\"input\", \"Australia\");\n",
    "\n",
    "// Invoke the semantic function\n",
    "var imageResult = await kernel.InvokeAsync(guessPluginFunctions[\"GuessWhat\"], arguments);\n",
    "\n",
    "// Get the image description from the result\n",
    "var imagedescription = imageResult.GetValue<string>();\n",
    "\n",
    "// Uncomment to see the image description\n",
    "// Console.WriteLine(imagedescription);\n",
    "\n",
    "// Use DALL-E 3 to generate an image. OpenAI in this case returns a URL (though you can ask to return a base64 image)\n",
    "var imageUrl = await dallE.GenerateImageAsync(imagedescription.Trim(), 1024, 1024);\n",
    "\n",
    "// Show an image using SkiaSharp library\n",
    "await Utilities.ShowImage(imageUrl, 512, 512);\n",
    "\n",
    "// Uncomment to see the URL of the image\n",
    "// Console.WriteLine(url);"
   ]
  },
  {
   "cell_type": "markdown",
   "metadata": {},
   "source": [
    "### 🔣 Embedding \n",
    "\n",
    "Computers don’t understand words and sentences the way humans do. So, we need a way to convert our text data into a numerical format that a computer can work with. That’s where embeddings come in.\n",
    "\n",
    "An embedding takes a word or a piece of text and maps it to a high-dimensional vector of real numbers. The interesting part is that these vectors are created in such a way that words with similar meanings are placed close together in this high-dimensional space. This allows the machine learning model to understand the semantic similarity between different words or pieces of text.\n",
    "\n",
    "For example, the words “cat” and “kitten” would be mapped to vectors that are close together in the embedding space, because they have similar meanings. On the other hand, the words “cat” and “car” would be mapped to vectors that are further apart, because they are semantically different.\n",
    "\n",
    "### 📐 Cosine Similarity\n",
    "\n",
    "Cosine similarity is a way of comparing two things, but instead of comparing them directly, we compare the direction they’re heading. Imagine you and your friend are going on a trip. You’re starting from the same place but you might not be going to the same destination. The cosine similarity is a measure of how similar your destinations are based on the direction you’re heading.\n",
    "\n",
    "In terms of vectors (which you can think of as arrows pointing from one point to another), the cosine similarity is calculated by taking the cosine of the angle between the two vectors. If the vectors are pointing in exactly the same direction, the angle between them is 0 degrees and their cosine similarity is 1. If they’re pointing in completely opposite directions, the angle is 180 degrees and their cosine similarity is -1. If they’re at right angles to each other (90 degrees), their cosine similarity is 0.\n",
    "\n",
    "In programming or data science, we often use cosine similarity to compare different pieces of data. For example, if we have two documents and we want to see how similar they are, we can represent each document as a vector (where each dimension corresponds to a word, and the value in that dimension corresponds to how often that word appears in the document), and then calculate the cosine similarity between these two vectors.\n",
    "\n",
    "### 🤷‍♀️ So what's the big deal here? \n",
    "\n",
    "Relax. Imagine you're working in a large enterprise with so many documents and you want to look out for a specific policy, it's going to be super difficult for you to look out for them. Even if you try to organise them quite well, you'd stil need good time to identify on which page that particular policy is written. Hence, too much of a manual work. Scenarios like these are common but with the help of above concepts, these problems can be solved efficiently. \n",
    "\n",
    "In our case, we have tried to create a visual riddle on the basis of the country name. You choose the country name, it generates a landmark. Then it asks you to define this landmark. If your definition of the generated landmark is similar to what is generated by AI then you get the higher cosine value, hence you win. 🏆\n",
    "\n",
    "`I know it's too much to digest 🍲 but I am sure you will do it`"
   ]
  },
  {
   "cell_type": "code",
   "execution_count": null,
   "metadata": {
    "dotnet_interactive": {
     "language": "csharp"
    },
    "polyglot_notebook": {
     "kernelName": "csharp"
    },
    "vscode": {
     "languageId": "polyglot-notebook"
    }
   },
   "outputs": [],
   "source": [
    "#!import Utilities.cs\n",
    "\n",
    "// Prompt the user to guess what the image is\n",
    "var guess = await InteractiveKernel.GetInputAsync(\"Describe the image in your words\");\n",
    "\n",
    "// Compare user guess with real description and calculate score\n",
    "var origEmbedding = await textEmbedding.GenerateEmbeddingsAsync(new List<string> { imagedescription } );\n",
    "var guessEmbedding = await textEmbedding.GenerateEmbeddingsAsync(new List<string> { guess } );\n",
    "var similarity = TensorPrimitives.CosineSimilarity(origEmbedding.First().Span, guessEmbedding.First().Span);\n",
    "\n",
    "Console.WriteLine($\"Your description:\\n{Utilities.WordWrap(guess, 90)}\\n\");\n",
    "Console.WriteLine($\"Real description:\\n{Utilities.WordWrap(imagedescription.Trim(), 90)}\\n\");\n",
    "Console.WriteLine($\"Score: {similarity:0.00}\\n\\n\");"
   ]
  },
  {
   "cell_type": "markdown",
   "metadata": {},
   "source": [
    "## 📝 Planners \n",
    "\n",
    "Planners are a set of tools that allow developers to automatically orchestrate AI functions. They use AI to mix-and-match the plugins registered in the kernel so that it can recombine them into a series of steps that complete a goal. This is a powerful concept because it allows you to create atomic functions that can be used in ways that you as a developer may not have thought of. For example, if you had task and calendar event plugins, planner could combine them to create workflows like \"remind me to buy milk when I go to the store\" or \"remind me to call my mom tomorrow\" without you explicitly having to write code for those scenarios. The planners can optimiSe the number of functions you can call per LLM request, which can save both time and money. \n",
    "\n",
    "Semantic Kernel Planners include the following:\n",
    "\n",
    "- **Handlebars Planner**: A planner that uses Handlebars syntax to generate a plan. The benefit of this is that it supports loops and conditional statements.\n",
    "\n",
    "- **Function Calling Stepwise Planner**: A planner that adds some additional reasoning at the beginning of the plan generation to improve the reliability of function calling. This is also called as ReAct methodology. "
   ]
  },
  {
   "cell_type": "code",
   "execution_count": null,
   "metadata": {
    "dotnet_interactive": {
     "language": "csharp"
    },
    "polyglot_notebook": {
     "kernelName": "csharp"
    },
    "vscode": {
     "languageId": "polyglot-notebook"
    }
   },
   "outputs": [],
   "source": [
    "\n",
    "// Getting the latest package released on 12th Dec, 2023 - https://www.nuget.org/packages/Microsoft.SemanticKernel/\n",
    "#r \"nuget: Microsoft.SemanticKernel, 1.0.1\"\n",
    "#r \"nuget: Microsoft.SemanticKernel.Plugins.Core, 1.0.1-alpha\"\n",
    "#r \"nuget: Microsoft.SemanticKernel.Planners.Handlebars, 1.0.1-preview\"\n",
    "\n",
    "#!import Settings.cs\n",
    "\n",
    "using Microsoft.SemanticKernel;\n",
    "using Microsoft.SemanticKernel.Plugins.Core;\n",
    "using Microsoft.SemanticKernel.Planning.Handlebars;\n",
    "using Kernel = Microsoft.SemanticKernel.Kernel;\n",
    "\n",
    "//Create Kernel builder\n",
    "var builder = Kernel.CreateBuilder();\n",
    "\n",
    "\n",
    "// Configure AI backend used by the kernel\n",
    "var (useAzureOpenAI, model, azureEndpoint, apiKey, orgId) = Settings.LoadFromFile();\n",
    "if (useAzureOpenAI)\n",
    "    builder.AddAzureOpenAIChatCompletion(model, azureEndpoint, apiKey);\n",
    "else\n",
    "    builder.AddOpenAIChatCompletion(model, apiKey, orgId);\n",
    "\n",
    "\n",
    "#pragma warning disable SKEXP0050\n",
    "builder.Plugins.AddFromType<TimePlugin>();\n",
    "builder.Plugins.AddFromType<ConversationSummaryPlugin>();\n",
    "builder.Plugins.AddFromPromptDirectory(\"plugins/FoodPlugin\");\n",
    "builder.Plugins.AddFromPromptDirectory(\"plugins/ShoppingPlugin\");\n",
    "builder.Plugins.AddFromPromptDirectory(\"plugins/WriterPlugin\");\n",
    "\n"
   ]
  },
  {
   "cell_type": "markdown",
   "metadata": {},
   "source": [
    "### 🍲 Generating Food Recipe "
   ]
  },
  {
   "cell_type": "code",
   "execution_count": null,
   "metadata": {
    "dotnet_interactive": {
     "language": "csharp"
    },
    "polyglot_notebook": {
     "kernelName": "csharp"
    },
    "vscode": {
     "languageId": "polyglot-notebook"
    }
   },
   "outputs": [],
   "source": [
    "var kernel = builder.Build();\n",
    "\n",
    "string foodRecipe = \"Chinese\";\n",
    "var foodRecipeResult = await kernel.InvokeAsync(\"FoodPlugin\",\"GetRecipe\", new KernelArguments() { [\"input\"] = foodRecipe } );\n",
    "Console.WriteLine(foodRecipeResult.GetValue<string>());"
   ]
  },
  {
   "cell_type": "markdown",
   "metadata": {},
   "source": [
    "### 🛒 Generating a grocery list out of the recipe"
   ]
  },
  {
   "cell_type": "code",
   "execution_count": null,
   "metadata": {
    "dotnet_interactive": {
     "language": "csharp"
    },
    "polyglot_notebook": {
     "kernelName": "csharp"
    },
    "vscode": {
     "languageId": "polyglot-notebook"
    }
   },
   "outputs": [],
   "source": [
    "var groceryListResult = await kernel.InvokeAsync(\"ShoppingPlugin\",\"GetGroceryList\", new KernelArguments() { [\"input\"] = foodRecipe } );\n",
    "Console.WriteLine(groceryListResult.GetValue<string>());"
   ]
  },
  {
   "cell_type": "code",
   "execution_count": null,
   "metadata": {
    "dotnet_interactive": {
     "language": "csharp"
    },
    "polyglot_notebook": {
     "kernelName": "csharp"
    },
    "vscode": {
     "languageId": "polyglot-notebook"
    }
   },
   "outputs": [],
   "source": [
    "#pragma warning disable SKEXP0060, SKEXP0061\n",
    "\n",
    "HandlebarsPlanner planner = new ();\n",
    "\n",
    "#pragma warning disable SKEXP0060\n",
    "\n",
    "var ask = \"My friend is coming from China and I would like to treat him with his own country's cuisine. I also want to do a grocery shopping with him.\";\n",
    "var originalPlan = await planner.CreatePlanAsync(kernel, ask);\n",
    "\n",
    "Console.WriteLine(\"Original plan:\\n\");\n",
    "Console.WriteLine(originalPlan);\n",
    "\n"
   ]
  }
 ],
 "metadata": {
  "kernelspec": {
   "display_name": "Python 3",
   "language": "python",
   "name": "python3"
  },
  "language_info": {
   "name": "python",
   "version": "3.9.13"
  },
  "orig_nbformat": 4,
  "polyglot_notebook": {
   "kernelInfo": {
    "defaultKernelName": "csharp",
    "items": [
     {
      "aliases": [],
      "name": "csharp"
     }
    ]
   }
  }
 },
 "nbformat": 4,
 "nbformat_minor": 2
}
