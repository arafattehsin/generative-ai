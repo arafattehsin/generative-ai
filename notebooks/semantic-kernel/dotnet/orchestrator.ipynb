{
 "cells": [
  {
   "cell_type": "markdown",
   "metadata": {},
   "source": [
    "# 🧱 Semantic Kernel for Developers (C#)\n",
    "`Author: Arafat Tehsin`\n",
    "\n",
    "Get ready to unleash your inner AI wizard as we take you on a journey from Semantic and Native functions to planners and connectors (yes, we’re getting smart here!) and even throw in some Azure Open / OpenAI’s gpt-turbo and DALL-E 2 models for good measure. Strap in folks, because we’re about to turn up the natural language heat!"
   ]
  },
  {
   "cell_type": "markdown",
   "metadata": {},
   "source": [
    "---\n",
    "\n",
    "```\n",
    "Inspired by the great designers at the Microsoft OCTO (Semantic Kernel)\n",
    "```\n",
    "### Reminder: This 📘 `Polyglot` notebook needs to be run from VS Code with below pre-requisites. \n",
    "\n",
    "The following software needs to be installed on your computer:\n",
    "\n",
    "* ✅ [Visual Studio Code](https://code.visualstudio.com/Download)\n",
    "* ✅ The latest [.Net 7.0 SDK](https://dotnet.microsoft.com/en-us/download) \n",
    "* ✅ [Polyglot Notebooks for VS Code](https://marketplace.visualstudio.com/items?itemName=ms-dotnettools.dotnet-interactive-vscode?)\n",
    "\n",
    "When the three items above are installed, the code notebooks should be formatted nicely with code blocks that have a little ▶️ (play) button next to them when you hover over the code. The \"Polyglot Notebooks for VS Code\" extension is what lets you run all the code snippets from within VS Code and serves as a little playground for your initial Semantic Kernel learning.\n",
    "\n",
    "Apart from installing software, you will need to have an API key to access the OpenAI models. \n",
    "\n",
    "* ✅ [Azure OpenAI Service](https://learn.microsoft.com/en-us/azure/cognitive-services/openai/quickstart?WT.mc_id=AI-MVP-5003464). Access your API key on Azure Open AI Service with [these instructions](https://learn.microsoft.com/en-us/azure/cognitive-services/openai/reference?WT.mc_id=AI-MVP-5003464).\n",
    "\n",
    "This notebook also requires you to create a deployment of [models](https://learn.microsoft.com/en-us/azure/cognitive-services/openai/concepts/models?WT.mc_id=AI-MVP-5003464) 🧪. This means that your fresh Azure OpenAI Service won't have any model right now. \n",
    "* ✅ You can create your deployments from [these docs](https://learn.microsoft.com/en-us/azure/cognitive-services/openai/how-to/create-resource?pivots=web-portal&WT.mc_id=AI-MVP-5003464). The suggestion is to have below deployments:\n",
    "\n",
    "    - `gpt-35-turbo` - ChatGPT-Business\n",
    "    -  `gpt-4`- GPT-4\n",
    "\n",
    "\n",
    "\n",
    "### 🌱 Environment Variables\n",
    "\n",
    "Once you get the key and enpoint, you may want to setup from command line or the shiny [Windows Terminal](https://aka.ms/windowsterminal)\n",
    "\n",
    "* `setx OPEN_AI_KEY \"your_key_here\"`\n",
    "* `setx OPEN_AI_ENDPOINT \"your_enpoint_here\"`\n",
    "\n",
    "#### 📘 After you have achieved all the 👆 prerequisites, open the notebooks in this repo from within Visual Studio Code and you are ready to to go!\n",
    "---"
   ]
  },
  {
   "cell_type": "markdown",
   "metadata": {},
   "source": [
    "### Now, let's try this out\n",
    "\n",
    "👋 In the event that you hit \"play\" below on the code block and it asks you to:\n",
    " \n",
    "```\n",
    "Select kernel for <filename>\n",
    "----\n",
    ".NET Interactive 👈\n",
    "Select Another Kernel...\n",
    "----\n",
    "```\n",
    "\n",
    "Choose `.NET Interactive` and you're good to go. That selection lets you magically run the Generative AI notebooks."
   ]
  },
  {
   "cell_type": "code",
   "execution_count": null,
   "metadata": {
    "dotnet_interactive": {
     "language": "csharp"
    },
    "polyglot_notebook": {
     "kernelName": "csharp"
    },
    "vscode": {
     "languageId": "polyglot-notebook"
    }
   },
   "outputs": [],
   "source": [
    "// 👈 you should see a ▶️ (play) button on \n",
    "// the left if you click in this block, \n",
    "// or just hover over this block\n",
    "// CLICK IT! And you should see an output\n",
    "// below this code block.\n",
    "\n",
    "Console.WriteLine(\"Microphone test. Check one. Two. Three.\");"
   ]
  },
  {
   "cell_type": "code",
   "execution_count": null,
   "metadata": {
    "dotnet_interactive": {
     "language": "csharp"
    },
    "polyglot_notebook": {
     "kernelName": "csharp"
    },
    "vscode": {
     "languageId": "polyglot-notebook"
    }
   },
   "outputs": [],
   "source": [
    "#!import Settings.cs\n",
    "\n",
    "bool useAzureOpenAI = true;\n",
    "\n",
    "await Settings.AskAzureEndpoint(useAzureOpenAI);\n",
    "await Settings.AskModel(useAzureOpenAI);\n",
    "await Settings.AskApiKey(useAzureOpenAI);\n",
    "\n",
    "// Uncomment this if you're using OpenAI and need to set the Org Id\n",
    "// await Settings.AskOrg(useAzureOpenAI);"
   ]
  },
  {
   "cell_type": "markdown",
   "metadata": {},
   "source": [
    "In case you want to reset your settings so that you can update your API keys again, just follow the below instructions."
   ]
  },
  {
   "cell_type": "code",
   "execution_count": null,
   "metadata": {
    "dotnet_interactive": {
     "language": "csharp"
    },
    "polyglot_notebook": {
     "kernelName": "csharp"
    },
    "vscode": {
     "languageId": "polyglot-notebook"
    }
   },
   "outputs": [],
   "source": [
    "#!import Settings.cs\n",
    "\n",
    "// Uncomment this line to reset your settings and delete the file from disk.\n",
    "// Settings.Reset();"
   ]
  },
  {
   "cell_type": "markdown",
   "metadata": {},
   "source": [
    "## Get a 🔥 .NET Interactive kernel ready for you to load the Semantic Kernel package\n",
    "\n",
    "This will create a client so you don't have to initialise it again. You can read more about the [Semantic Kernel SDK](https://devblogs.microsoft.com/semantic-kernel/introducing-the-v1-0-0-beta1-for-the-net-semantic-kernel-sdk/) here.\n",
    "\n",
    "### Wait! What's Semantic Kernel? 🤷‍♂️\n",
    "\n",
    "Think of Microsoft’s Semantic Kernel as a big box of Lego blocks. Each block represents a different AI service, like understanding language, answering questions, or even creating art.\n",
    "\n",
    "As a developer, you can pick and choose which blocks you want to use to build your application, just like you would build a Lego model. You can combine these blocks in any way you want to create something unique.\n",
    "\n",
    "The best part is that Semantic Kernel is open-source. This means that not only can you use all these blocks for free, but you can also create your own blocks and share them with others!\n",
    "\n",
    "So, if you’re building an application and you want it to have some cool AI features, Semantic Kernel gives you the tools to do that. It’s like having a superpower for your app!"
   ]
  },
  {
   "cell_type": "code",
   "execution_count": null,
   "metadata": {
    "dotnet_interactive": {
     "language": "csharp"
    },
    "polyglot_notebook": {
     "kernelName": "csharp"
    },
    "vscode": {
     "languageId": "polyglot-notebook"
    }
   },
   "outputs": [],
   "source": [
    "// Import Semantic Kernel\n",
    "#r \"nuget: Microsoft.SemanticKernel, 1.0.0-beta1\"\n",
    "\n",
    "#!import Settings.cs\n",
    "\n",
    "using Microsoft.SemanticKernel;\n",
    "\n",
    "// Initialisating the kernel builder\n",
    "var builder = new KernelBuilder();\n",
    "\n",
    "// Configure AI backend used by the kernel\n",
    "var (useAzureOpenAI, model, azureEndpoint, apiKey, orgId) = Settings.LoadFromFile();\n",
    "if (useAzureOpenAI) \n",
    "    builder.WithAzureChatCompletionService(model, azureEndpoint, apiKey, alsoAsTextCompletion: true);\n",
    "else\n",
    "    builder.WithOpenAIChatCompletionService(model, apiKey, orgId, alsoAsTextCompletion: true);\n",
    "\n",
    "IKernel kernel = builder.Build();"
   ]
  },
  {
   "cell_type": "markdown",
   "metadata": {},
   "source": [
    "## 🔨 🧠 AI Plugins\n",
    "\n",
    "AI plugins are like a set of instructions or tasks that your application can perform². You can think of them as a recipe book for your application. Each recipe (or plugin) contains a list of ingredients (or functions) and steps (or triggers and actions) that your application can use to accomplish a specific task.\n",
    "\n",
    "For example, let's say you're building a chatbot and you want it to be able to answer questions about the weather. You could create a plugin that contains a function for fetching the current weather data from a weather API and another function for formatting that data into a user-friendly message.\n",
    "\n",
    "Plugins are the fundamental building blocks of Semantic Kernel and can interoperate with plugins in ChatGPT, Bing, and Microsoft 365. With plugins, you can encapsulate capabilities into a single unit of functionality that can then be run by the kernel. Plugins can consist of both native code and requests to AI services via semantic functions.\n",
    "\n",
    "This means any plugins you build can be exported so they are usable in ChatGPT, Bing, and Microsoft 365. This allows you to increase the reach of your AI capabilities without rewriting code. It also means that plugins built for ChatGPT, Bing, and Microsoft 365 can be imported into Semantic Kernel seamlessly.\n",
    "\n",
    "### 👂 🗣️ Semantic Functions\n",
    "\n",
    "Think of Semantic Functions as the individual steps in a recipe. Each step (or function) tells your application what to do and how to do it.\n",
    "\n",
    "For example, let’s say you’re building a chatbot and you want it to be able to answer questions about the weather. One of your Semantic Functions might be a step that fetches the current weather data from a weather API. Another Semantic Function might be a step that takes that weather data and formats it into a user-friendly message.\n",
    "\n",
    "Semantic Functions are used in plugins, which are like the full recipes in your recipe book. Each plugin can contain multiple Semantic Functions and each function can be triggered by certain events or conditions.\n",
    "\n",
    "So, if you’re building an application and you want it to have some cool AI features, Semantic Functions give you the tools to do that. They’re like the individual steps that make up your app's recipe for success.\n",
    "\n",
    "### 🎬 🔍 ✍️ Native Functions \n",
    "\n",
    "Think of Native Functions in Semantic Kernel as the kitchen tools you use when following a recipe. These could be things like a blender, an oven or a knife. They’re the tools that allow you to interact with your ingredients (data) and transform them in different ways.\n",
    "\n",
    "For example, let’s say you’re building a chatbot and one of your recipes (plugins) is for baking a cake. One of your steps (Semantic Functions) might be to mix the ingredients together (combine data), but you can’t do that with your hands. You need a tool (Native Function) like a blender.\n",
    "\n",
    "So, you could create a Native Function that takes your ingredients (data), uses the blender (performs an operation on the data) and returns a cake batter (the result of the operation).\n",
    "\n",
    "Just like in cooking, having the right tools can make all the difference. That’s why Semantic Kernel allows you to create your own Native Functions. So, whether you’re baking a cake or building an application, you’ll always have the tools you need to get the job done!"
   ]
  },
  {
   "cell_type": "markdown",
   "metadata": {},
   "source": [
    "### 🗺️ Find the capital\n",
    "\n",
    "In this example, we have demonsrated a way to find out the cpaital by just providing a country name. This is a beginning to what you can achieve with Semantic Kernel with the minimum knowledge of this framework."
   ]
  },
  {
   "cell_type": "code",
   "execution_count": null,
   "metadata": {
    "dotnet_interactive": {
     "language": "csharp"
    },
    "polyglot_notebook": {
     "kernelName": "csharp"
    },
    "vscode": {
     "languageId": "polyglot-notebook"
    }
   },
   "outputs": [],
   "source": [
    "// Set-up the context (SKContext)\n",
    "var context = kernel.CreateNewContext();\n",
    "\n",
    "// Set-up the input\n",
    "var countryName = \"Portugal\";\n",
    "context.Variables.Set(\"input\", countryName);\n",
    "\n",
    "// Invoke the semantic function\n",
    "var pluginDirectory = Path.Combine(System.IO.Directory.GetCurrentDirectory(), \"Plugins\");\n",
    "var getCityPlugin = kernel.ImportSemanticFunctionsFromDirectory(pluginDirectory, \"CityPlugin\");\n",
    "var result = await getCityPlugin[\"GetCity\"].InvokeAsync(context);\n",
    "\n",
    "// Print the result\n",
    "Console.WriteLine(result.GetValue<string>());"
   ]
  },
  {
   "cell_type": "markdown",
   "metadata": {},
   "source": [
    "### Let's build a riddle game.\n",
    "\n",
    "Ask for a riddle by understanding the prompt (the prompt settings are defined within the Plugins/GuessPlugin/GetRiddle). In this example, we have requested Semantic function to give us a riddle and its answer (more to come later as wy do we need an answer too)."
   ]
  },
  {
   "cell_type": "code",
   "execution_count": null,
   "metadata": {
    "dotnet_interactive": {
     "language": "csharp"
    },
    "polyglot_notebook": {
     "kernelName": "csharp"
    },
    "vscode": {
     "languageId": "polyglot-notebook"
    }
   },
   "outputs": [],
   "source": [
    "using System.Text.Json;\n",
    "\n",
    "kernel = builder.Build();\n",
    "// Set-up the context (SKContext)\n",
    "var context = kernel.CreateNewContext();\n",
    "\n",
    "// Invoke the semantic function\n",
    "var pluginDirectory = Path.Combine(System.IO.Directory.GetCurrentDirectory(), \"Plugins\");\n",
    "var guessPlugin = kernel.ImportSemanticFunctionsFromDirectory(pluginDirectory, \"GuessPlugin\");\n",
    "var result = await guessPlugin[\"GetRiddle\"].InvokeAsync(context);\n",
    "\n",
    "// Parse the JSON object\n",
    "var riddleObject = JsonDocument.Parse(result.GetValue<string>()).RootElement;\n",
    "\n",
    "// Get a riddle question from the JSON object\n",
    "var riddle = riddleObject.GetProperty(\"riddle\").GetString();\n",
    "\n",
    "// Get an answer from the JSON object\n",
    "var answer = riddleObject.GetProperty(\"answer\").GetString();\n",
    "\n",
    "// Print the result\n",
    "Console.WriteLine(riddle + \" \" + answer);"
   ]
  },
  {
   "cell_type": "markdown",
   "metadata": {},
   "source": [
    "Let's try to achieve the above goal with inline functions. \n",
    "\n",
    "An *inline function* is like a step in a recipe that you write directly in your program. It’s called *inline* because you define it right where you’re going to use it. This is really useful when you’re just starting out or testing something new, because it allows you to quickly see and change what the function is doing."
   ]
  },
  {
   "cell_type": "code",
   "execution_count": null,
   "metadata": {
    "dotnet_interactive": {
     "language": "csharp"
    },
    "polyglot_notebook": {
     "kernelName": "csharp"
    },
    "vscode": {
     "languageId": "polyglot-notebook"
    }
   },
   "outputs": [],
   "source": [
    "using Microsoft.SemanticKernel.Connectors.AI.OpenAI;\n",
    "using Microsoft.SemanticKernel.SemanticFunctions;\n",
    "\n",
    "string skPrompt = @\"Ask an interesting new riddle about an apple with its answer in a below json format. It should only contain a JSON message and nothing else.\n",
    "\n",
    "                 {\n",
    "                   \"\"Question\"\": \"\"\"\",\n",
    "                   \"\"Answer\"\": \"\"\"\"\n",
    "                 }\n",
    "                 \";\n",
    "\n",
    "var aiRequestSettings = new OpenAIRequestSettings()\n",
    "{\n",
    "    MaxTokens = 200,\n",
    "    Temperature = 0.5,\n",
    "    TopP = 0,\n",
    "    PresencePenalty = 0,\n",
    "    FrequencyPenalty = 0,\n",
    "};\n",
    "\n",
    "// Set-up the prompt configuration and adding the AI Request Settings\n",
    "var promptConfig = new PromptTemplateConfig();\n",
    "promptConfig.ModelSettings.Add(aiRequestSettings);\n",
    "\n",
    "\n",
    "var promptTemplate = new PromptTemplate(\n",
    "    skPrompt,\n",
    "    promptConfig,\n",
    "    kernel\n",
    ");\n",
    "\n",
    "var functionConfig = new SemanticFunctionConfig(promptConfig, promptTemplate);\n",
    "var guessPlugin = kernel.RegisterSemanticFunction(\"GuessPlugin\", \"GetRiddle\", functionConfig);\n",
    "\n",
    "// Set-up the context (SKContext)\n",
    "var context = kernel.CreateNewContext();\n",
    "var result = await guessPlugin.InvokeAsync(context);\n",
    "\n",
    "//  Parse the JSON object\n",
    "var riddleObject = JsonDocument.Parse(result.GetValue<string>()).RootElement;\n",
    "\n",
    "// Get a riddle from the JSON object\n",
    "var riddle = riddleObject.GetProperty(\"Question\").GetString();\n",
    "\n",
    "// Get an answer from the JSON object\n",
    "var answer = riddleObject.GetProperty(\"Answer\").GetString();\n",
    "\n",
    "// Print the result\n",
    "Console.WriteLine(riddle + \" \" + answer);"
   ]
  },
  {
   "cell_type": "markdown",
   "metadata": {},
   "source": [
    "### 🖼️ Generating Images with AI (DALL-E 2)\n",
    "\n",
    " It’s like having an artist at your fingertips - you just describe what you want and DALL-E creates it! This can be particularly useful for visualizing concepts or creating illustrative examples. This is a fun and interactive way to understand the power of AI and machine learning. Just remember, while DALL-E is incredibly powerful, it’s not perfect - the images it creates are based on its training data, so some unique or abstract requests might not turn out as expected.\n",
    "\n",
    "In the below example, we're leveraging SkiaSharp's library and trying to generate an image of a landmark by just providing the country's name. \n",
    "\n",
    "❓ How it is generating the image of the landmark, anyway?\n",
    "\n",
    "✍️ If you go to GuessPlugin/GuessWhat/skprompt.txt, you will see that we have written a below prompt:\n",
    "\n",
    "`Choose a landmark in a big city within {{$input}}. Remember that it has to be a famous which at least has a known landmark.\n",
    "The {{$input}} has to be known in terms of history, culture, and tourism.`\n",
    "\n",
    "This prompt takes the country's name and replace with `$input`. Then after replacing, it generates a little bit of description as well so that we can pass that description to generate an image. Comments in the code will tell you more. "
   ]
  },
  {
   "cell_type": "code",
   "execution_count": null,
   "metadata": {
    "dotnet_interactive": {
     "language": "csharp"
    },
    "polyglot_notebook": {
     "kernelName": "csharp"
    },
    "vscode": {
     "languageId": "polyglot-notebook"
    }
   },
   "outputs": [],
   "source": [
    "#r \"nuget: SkiaSharp, 2.88.3\"\n",
    "#r \"nuget: Microsoft.SemanticKernel, *-*\"\n",
    "\n",
    "#!import Utilities.cs\n",
    "\n",
    "using Microsoft.SemanticKernel;\n",
    "using Microsoft.SemanticKernel.AI.ImageGeneration;\n",
    "using Microsoft.SemanticKernel.AI.ChatCompletion; \n",
    "using Microsoft.SemanticKernel.AI.Embeddings;\n",
    "using Microsoft.SemanticKernel.AI.Embeddings.VectorOperations;\n",
    "using Microsoft.SemanticKernel.SemanticFunctions;\n",
    "\n",
    "var builder = new KernelBuilder();\n",
    "\n",
    "// Configure AI backend used by the kernel\n",
    "var (useAzureOpenAI, model, azureEndpoint, apiKey, orgId) = Settings.LoadFromFile();\n",
    "if (useAzureOpenAI)\n",
    "{\n",
    "    // Setting up two more services here, one for images, one for embedding (defined below)\n",
    "    builder.WithAzureChatCompletionService(model, azureEndpoint, apiKey, true, setAsDefault: true);\n",
    "    builder.WithAzureTextEmbeddingGenerationService(\"ada\", azureEndpoint, apiKey);\n",
    "    builder.WithAzureOpenAIImageGenerationService(azureEndpoint, apiKey);\n",
    "}\n",
    "else\n",
    "{\n",
    "    // Setting up two more services here, one for images, one for embedding (defined below)\n",
    "    builder.WithAzureChatCompletionService(model, azureEndpoint, apiKey, true, setAsDefault: true);\n",
    "    builder.WithOpenAIImageGenerationService(apiKey, orgId);\n",
    "    builder.WithOpenAITextEmbeddingGenerationService(\"ada\", orgId);\n",
    "}\n",
    "    \n",
    "\n",
    "IKernel kernel = builder.Build();\n",
    "\n",
    "// Get AI service instance used to generate images\n",
    "var dallE = kernel.GetService<IImageGeneration>();\n",
    "\n",
    "// Get AI service instance used to extract embedding from a text\n",
    "var textEmbedding = kernel.GetService<ITextEmbeddingGeneration>();\n",
    "\n",
    "// Setting up the SKContext\n",
    "var context = kernel.CreateNewContext();\n",
    "context.Variables.Set(\"input\", \"Australia\");\n",
    "\n",
    "// Invoke the semantic function\n",
    "var pluginDirectory = Path.Combine(System.IO.Directory.GetCurrentDirectory(), \"Plugins\");\n",
    "var guessPlugin = kernel.ImportSemanticFunctionsFromDirectory(pluginDirectory, \"GuessPlugin\");\n",
    "var image = await guessPlugin[\"GuessWhat\"].InvokeAsync(context);\n",
    "var imagedescription = image.GetValue<string>();\n",
    "\n",
    "// Uncomment to see the URL\n",
    "// Console.WriteLine(imagedescription);\n",
    "\n",
    "// Use DALL-E 2 to generate an image. OpenAI in this case returns a URL (though you can ask to return a base64 image)\n",
    "var imageUrl = await dallE.GenerateImageAsync(imagedescription.Trim(), 512, 512);\n",
    "\n",
    "// Show an image using SkiaSharp library\n",
    "await Utilities.ShowImage(imageUrl, 512, 512);\n",
    "\n",
    "// Uncomment to see the URL\n",
    "// Console.WriteLine(url);\n"
   ]
  },
  {
   "cell_type": "markdown",
   "metadata": {},
   "source": [
    "### 🔣 Embedding \n",
    "\n",
    "Computers don’t understand words and sentences the way humans do. So, we need a way to convert our text data into a numerical format that a computer can work with. That’s where embeddings come in.\n",
    "\n",
    "An embedding takes a word or a piece of text and maps it to a high-dimensional vector of real numbers. The interesting part is that these vectors are created in such a way that words with similar meanings are placed close together in this high-dimensional space. This allows the machine learning model to understand the semantic similarity between different words or pieces of text.\n",
    "\n",
    "For example, the words “cat” and “kitten” would be mapped to vectors that are close together in the embedding space, because they have similar meanings. On the other hand, the words “cat” and “car” would be mapped to vectors that are further apart, because they are semantically different.\n",
    "\n",
    "### 📐 Cosine Similarity\n",
    "\n",
    "Cosine similarity is a way of comparing two things, but instead of comparing them directly, we compare the direction they’re heading. Imagine you and your friend are going on a trip. You’re starting from the same place but you might not be going to the same destination. The cosine similarity is a measure of how similar your destinations are based on the direction you’re heading.\n",
    "\n",
    "In terms of vectors (which you can think of as arrows pointing from one point to another), the cosine similarity is calculated by taking the cosine of the angle between the two vectors. If the vectors are pointing in exactly the same direction, the angle between them is 0 degrees and their cosine similarity is 1. If they’re pointing in completely opposite directions, the angle is 180 degrees and their cosine similarity is -1. If they’re at right angles to each other (90 degrees), their cosine similarity is 0.\n",
    "\n",
    "In programming or data science, we often use cosine similarity to compare different pieces of data. For example, if we have two documents and we want to see how similar they are, we can represent each document as a vector (where each dimension corresponds to a word, and the value in that dimension corresponds to how often that word appears in the document), and then calculate the cosine similarity between these two vectors.\n",
    "\n",
    "### 🤷‍♀️ So what's the big deal here? \n",
    "\n",
    "Relax. Imagine you're working in a large enterprise with so many documents and you want to look out for a specific policy, it's going to be super difficult for you to look out for them. Even if you try to organise them quite well, you'd stil need good time to identify on which page that particular policy is written. Hence, too much of a manual work. Scenarios like these are common but with the help of above concepts, these problems can be solved efficiently. \n",
    "\n",
    "In our case, we have tried to create a visual riddle on the basis of the country name. You choose the country name, it generates a landmark. Then it asks you to define this landmark. If your definition of the generated landmark is similar to what is generated by AI then you get the higher cosine value, hence you win. 🏆\n",
    "\n",
    "`I know it's too much to digest 🍲 but I am sure you will do it`"
   ]
  },
  {
   "cell_type": "code",
   "execution_count": null,
   "metadata": {
    "dotnet_interactive": {
     "language": "csharp"
    },
    "polyglot_notebook": {
     "kernelName": "csharp"
    },
    "vscode": {
     "languageId": "polyglot-notebook"
    }
   },
   "outputs": [],
   "source": [
    "#!import Utilities.cs\n",
    "\n",
    "// Prompt the user to guess what the image is\n",
    "var guess = await InteractiveKernel.GetInputAsync(\"Describe the image in your words\");\n",
    "\n",
    "// Compare user guess with real description and calculate score\n",
    "var origEmbedding = await textEmbedding.GenerateEmbeddingsAsync(new List<string> { imagedescription } );\n",
    "var guessEmbedding = await textEmbedding.GenerateEmbeddingsAsync(new List<string> { guess } );\n",
    "var similarity = origEmbedding.First().Span.CosineSimilarity(guessEmbedding.First().Span);\n",
    "\n",
    "Console.WriteLine($\"Your description:\\n{Utilities.WordWrap(guess, 90)}\\n\");\n",
    "Console.WriteLine($\"Real description:\\n{Utilities.WordWrap(imagedescription.Trim(), 90)}\\n\");\n",
    "Console.WriteLine($\"Score: {similarity:0.00}\\n\\n\");"
   ]
  }
 ],
 "metadata": {
  "kernelspec": {
   "display_name": "Python 3",
   "language": "python",
   "name": "python3"
  },
  "language_info": {
   "name": "python",
   "version": "3.9.13"
  },
  "orig_nbformat": 4,
  "polyglot_notebook": {
   "kernelInfo": {
    "defaultKernelName": "csharp",
    "items": [
     {
      "aliases": [],
      "name": "csharp"
     }
    ]
   }
  }
 },
 "nbformat": 4,
 "nbformat_minor": 2
}
