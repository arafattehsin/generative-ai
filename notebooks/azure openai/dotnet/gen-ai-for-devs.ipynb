{
 "cells": [
  {
   "attachments": {},
   "cell_type": "markdown",
   "metadata": {},
   "source": [
    "# 🚀 Generative AI for Developers (C#)\n",
    "`Author: Arafat Tehsin`\n",
    "\n",
    "Well, well, well, looks like we have a language polyglot in the making! And not just any polyglot, but one who's delving into the fascinating world of Azure OpenAI Service. Get ready to unleash your inner coding genius as we take you on a journey from GPT-3 Text Completions to ChatGPT (yes, we're getting chatty here!) and even sprinkle in some DALL-E for good measure. Buckle up, folks, because we're about to turn up the AI heat!"
   ]
  },
  {
   "attachments": {},
   "cell_type": "markdown",
   "metadata": {},
   "source": [
    "---\n",
    "\n",
    "```\n",
    "Inspired by the great designers at the Microsoft OCTO (Semantic Kernel)\n",
    "```\n",
    "### Reminder: This 📘 `Polyglot` notebook needs to be run from VS Code with below pre-requisites. \n",
    "\n",
    "The following software needs to be installed on your computer:\n",
    "\n",
    "* ✅ [Visual Studio Code](https://code.visualstudio.com/Download)\n",
    "* ✅ The latest [.Net 7.0 SDK](https://dotnet.microsoft.com/en-us/download) \n",
    "* ✅ [Polyglot Notebooks for VS Code](https://marketplace.visualstudio.com/items?itemName=ms-dotnettools.dotnet-interactive-vscode?)\n",
    "\n",
    "When the three items above are installed, the code notebooks should be formatted nicely with code blocks that have a little ▶️ (play) button next to them when you hover over the code. The \"Polyglot Notebooks for VS Code\" extension is what lets you run all the code snippets from within VS Code and serves as a little playground for your initial Azure OpenAI learning.\n",
    "\n",
    "Apart from installing software, you will need to have an API key to access the OpenAI models. \n",
    "\n",
    "* ✅ [Azure OpenAI Service](https://learn.microsoft.com/en-us/azure/cognitive-services/openai/quickstart?WT.mc_id=AI-MVP-5003464). Access your API key on Azure Open AI Service with [these instructions](https://learn.microsoft.com/en-us/azure/cognitive-services/openai/reference?WT.mc_id=AI-MVP-5003464).\n",
    "\n",
    "This notebook also requires you to create a deployment of [models](https://learn.microsoft.com/en-us/azure/cognitive-services/openai/concepts/models?WT.mc_id=AI-MVP-5003464) 🧪. This means that your fresh Azure OpenAI Service won't have any model right now. \n",
    "* ✅ You can create your deployments from [these docs](https://learn.microsoft.com/en-us/azure/cognitive-services/openai/how-to/create-resource?pivots=web-portal&WT.mc_id=AI-MVP-5003464). The suggestion is to have below deployments:\n",
    "\n",
    "    - `text-davinci-003` - davinci\n",
    "    - `gpt-35-turbo` - ChatGPT-Business\n",
    "    -  `gpt-4`- GPT-4\n",
    "\n",
    "\n",
    "\n",
    "### 🌱 Environment Variables\n",
    "\n",
    "Once you get the key and enpoint, you may want to setup from command line or the shiny [Windows Terminal](https://aka.ms/windowsterminal)\n",
    "\n",
    "* `setx OPEN_AI_KEY \"your_key_here\"`\n",
    "* `setx OPEN_AI_ENDPOINT \"your_enpoint_here\"`\n",
    "\n",
    "#### 📘 After you have achieved all the 👆 prerequisites, open the notebooks in this repo from within Visual Studio Code and you are ready to to go!\n",
    "---"
   ]
  },
  {
   "attachments": {},
   "cell_type": "markdown",
   "metadata": {},
   "source": [
    "### Now, let's try this out\n",
    "\n",
    "👋 In the event that you hit \"play\" below on the code block and it asks you to:\n",
    " \n",
    "```\n",
    "Select kernel for <filename>\n",
    "----\n",
    ".NET Interactive 👈\n",
    "Select Another Kernel...\n",
    "----\n",
    "```\n",
    "\n",
    "Choose `.NET Interactive` and you're good to go. That selection lets you magically run the Generative AI notebooks."
   ]
  },
  {
   "cell_type": "code",
   "execution_count": null,
   "metadata": {
    "dotnet_interactive": {
     "language": "csharp"
    },
    "polyglot_notebook": {
     "kernelName": "csharp"
    },
    "vscode": {
     "languageId": "polyglot-notebook"
    }
   },
   "outputs": [],
   "source": [
    "// 👈 you should see a ▶️ (play) button on \n",
    "// the left if you click in this block, \n",
    "// or just hover over this block\n",
    "// CLICK IT! And you should see an output\n",
    "// below this code block.\n",
    "\n",
    "Console.WriteLine(\"Microphone test. Check one. Two. Three.\");"
   ]
  },
  {
   "attachments": {},
   "cell_type": "markdown",
   "metadata": {},
   "source": [
    "## Get a 🔥 .NET Interactive kernel ready for you to load the Azure OpenAI Service package\n",
    "\n",
    "This will create a client so you don't have to initialise it again. You can read more about the [Azure OpenAI SDK](https://www.nuget.org/packages/Azure.AI.OpenAI/) here."
   ]
  },
  {
   "cell_type": "code",
   "execution_count": null,
   "metadata": {
    "dotnet_interactive": {
     "language": "csharp"
    },
    "polyglot_notebook": {
     "kernelName": "csharp"
    },
    "vscode": {
     "languageId": "polyglot-notebook"
    }
   },
   "outputs": [],
   "source": [
    "#r \"nuget:Azure.AI.OpenAI,*-*\"\n",
    "\n",
    "using Azure;\n",
    "using Azure.AI.OpenAI;\n",
    "using static System.Environment;\n",
    "\n",
    "// setting constant for models\n",
    "const string davinci = \"davinci\";\n",
    "const string chatgpt = \"ChatGPT-Business\";\n",
    "const string gpt4 = \"GPT-4\";\n",
    "\n",
    "string key = Environment.GetEnvironmentVariable(\"OPEN_AI_KEY\");\n",
    "string endpoint = Environment.GetEnvironmentVariable(\"OPEN_AI_ENDPOINT\");\n",
    "\n",
    "OpenAIClient client = new(new Uri(endpoint), new AzureKeyCredential(key));"
   ]
  },
  {
   "attachments": {},
   "cell_type": "markdown",
   "metadata": {},
   "source": [
    "If you can see a confirmation line above that starts with `Installed Packages ... • Azure.AI.OpenAI, 1.0.0-beta.5, ...` then proceed below."
   ]
  },
  {
   "attachments": {},
   "cell_type": "markdown",
   "metadata": {},
   "source": [
    "## 📑 Let's talk about completion with GPT-3\n",
    "\n",
    "Completions can be used for variety of tasks. It's a simple but powerful text-in and text-out interface. \n",
    "\n",
    "In this snippet, we will be setting up our respective engine for GPT-3 which is `davinci` and also a `prompt` which we want to see completed by GPT-3 model.\n",
    "\n",
    "Upon providing your input as a prompt, the model will generate a text completion that attempts to match whatever context or pattern you gave it. For example, if you a prompt, \"\n",
    "All that glitters is\", it will return the completion \" not gold\" with high probability.\n",
    "\n",
    "💡 Read more about the Completions [here](https://learn.microsoft.com/azure/cognitive-services/openai/how-to/completions?WT.mc_id=AI-MVP-5003464)."
   ]
  },
  {
   "cell_type": "code",
   "execution_count": null,
   "metadata": {
    "dotnet_interactive": {
     "language": "csharp"
    },
    "polyglot_notebook": {
     "kernelName": "csharp"
    },
    "vscode": {
     "languageId": "polyglot-notebook"
    }
   },
   "outputs": [],
   "source": [
    "string prompt = \"I climbed a mango tree and picked a\";\n",
    "Console.WriteLine($\"Your input: {prompt}\");\n",
    "\n",
    "Response<Completions> completionsResponse = \n",
    "    await client.GetCompletionsAsync(davinci, prompt);\n",
    "string completion = completionsResponse.Value.Choices[0].Text;\n",
    "Console.Write($\"GPT-3 Response (Chat): {completion.Trim()}\");"
   ]
  },
  {
   "attachments": {},
   "cell_type": "markdown",
   "metadata": {},
   "source": [
    "## 📈 Sentiment Classifier with Completion API\n",
    "\n",
    "In this example, we provide some sample utterances (past records) to augment the model according to our needs. These examples are a few and hence a good example for few-shot learning within Prompt Engineering."
   ]
  },
  {
   "cell_type": "code",
   "execution_count": 2,
   "metadata": {
    "dotnet_interactive": {
     "language": "csharp"
    },
    "polyglot_notebook": {
     "kernelName": "csharp"
    },
    "vscode": {
     "languageId": "polyglot-notebook"
    }
   },
   "outputs": [
    {
     "name": "stdout",
     "output_type": "stream",
     "text": [
      "Your input: This is a tweet sentiment classifier\n",
      "\n",
      "Tweet: \"I loved the new Batman movie!\"\n",
      "Sentiment: Positive\n",
      "\n",
      "Tweet: \"I hate it when my phone battery dies.\" \n",
      "Sentiment: Negative\n",
      "\n",
      "Tweet: \"My day has been 👍\"\n",
      "Sentiment: Positive\n",
      "\n",
      "Tweet: \"This is the link to the article\"\n",
      "Sentiment: Neutral\n",
      "\n",
      "Tweet: \"I just don't like this movie.\"\n",
      "Sentiment: \n",
      "GPT-3 Response (Chat): Negative"
     ]
    }
   ],
   "source": [
    "string prompt = \"\"\"\n",
    "This is a tweet sentiment classifier\n",
    "\n",
    "Tweet: \"I loved the new Batman movie!\"\n",
    "Sentiment: Positive\n",
    "\n",
    "Tweet: \"I hate it when my phone battery dies.\" \n",
    "Sentiment: Negative\n",
    "\n",
    "Tweet: \"My day has been 👍\"\n",
    "Sentiment: Positive\n",
    "\n",
    "Tweet: \"This is the link to the article\"\n",
    "Sentiment: Neutral\n",
    "\n",
    "Tweet: \"I just don't like this movie.\"\n",
    "Sentiment: \n",
    "\"\"\";\n",
    "Console.WriteLine($\"Your input: {prompt}\");\n",
    "\n",
    "Response<Completions> completionsResponse = \n",
    "    await client.GetCompletionsAsync(davinci, prompt);\n",
    "string completion = completionsResponse.Value.Choices[0].Text;\n",
    "Console.Write($\"GPT-3 Response (Chat): {completion.Trim()}\");"
   ]
  },
  {
   "attachments": {},
   "cell_type": "markdown",
   "metadata": {},
   "source": [
    "## 💬 ChatGPT & GPT-4\n",
    "\n",
    "Previous models were text-in and text-out, meaning they accepted a prompt string and returned a completion to append to the prompt. However, the ChatGPT and GPT-4 models are conversation-in and message-out. The models expect input formatted in a specific chat-like transcript format, and return a completion that represents a model-written message in the chat. \n",
    "\n",
    "In this case, we're trying to build a flight tracker with the few-shot examples. \n",
    "\n",
    "* ✅ System message, the first one with `ChatRole.System` key is a base for your conversational experience. Try to write as much as you want within it. \n",
    "* ✅ Also, the subsequent messages with are the few shots. `ChatRole.User` defines what user may say whereas `ChatRole.Assisant` responds back with the probable answer.\n",
    "\n",
    "You can also use the similar approach to build other use-cases. \n",
    "\n",
    "💡 Learn more about the ChatGPT & GPT-4 models [here](https://learn.microsoft.com/en-us/azure/cognitive-services/openai/how-to/chatgpt?pivots=programming-language-chat-completions&WT.mc_id=AI-MVP-5003464)."
   ]
  },
  {
   "cell_type": "code",
   "execution_count": null,
   "metadata": {
    "dotnet_interactive": {
     "language": "csharp"
    },
    "polyglot_notebook": {
     "kernelName": "csharp"
    },
    "vscode": {
     "languageId": "polyglot-notebook"
    }
   },
   "outputs": [],
   "source": [
    "var prompt = \"I want to track flight JF-123 flying from Sydney to Melbourne\";\n",
    "\n",
    "var chatCompletionsOptions = new ChatCompletionsOptions()\n",
    "{\n",
    "    Messages =\n",
    "    {\n",
    "        new ChatMessage(ChatRole.System, \"You are a virtual flight assistant who is responsible for tracking flights. You need either a flight number or source (to) and destination (from) to track any flight. If user does not provide either of this information then you should ask for it. Anything outside of the flights are not a part of your scope and you should just answer with an Unknown intent.\"),\n",
    "        new ChatMessage(ChatRole.User, \"Track my flight from Sydney?\"),\n",
    "        new ChatMessage(ChatRole.Assistant,\"Sure! Please provide your destination?\"),\n",
    "        new ChatMessage(ChatRole.User, \"I want to track flight JF-123?\"),\n",
    "        new ChatMessage(ChatRole.Assistant, \"Your flight JF-123 is now departed from Sydney and will be arriving soon in Melbourne at 7 PM\"),\n",
    "        new ChatMessage(ChatRole.User, prompt)\n",
    "    },\n",
    "    MaxTokens = 100\n",
    "};\n",
    "\n",
    "Response<StreamingChatCompletions> response = await client.GetChatCompletionsStreamingAsync(\n",
    "    deploymentOrModelName: chatgpt,\n",
    "    chatCompletionsOptions);\n",
    "    \n",
    "using (StreamingChatCompletions streamingChatCompletions = response.Value)\n",
    "{\n",
    "    await foreach (StreamingChatChoice choice in streamingChatCompletions.GetChoicesStreaming())\n",
    "    {\n",
    "        await foreach (ChatMessage message in choice.GetMessageStreaming())\n",
    "        {\n",
    "            Console.Write(message.Content);\n",
    "        }\n",
    "        Console.WriteLine();\n",
    "    }\n",
    "}"
   ]
  },
  {
   "attachments": {},
   "cell_type": "markdown",
   "metadata": {},
   "source": [
    "`🔔 You will be able to look at the multi-turn chat application and that too with voice, very soon in this repo.`\n",
    "\n",
    "## 🧠 Summarise and Translate \n",
    "\n",
    "While this format was designed specifically for multi-turn conversations, you'll find it can also work well for non-chat scenarios too."
   ]
  },
  {
   "cell_type": "code",
   "execution_count": null,
   "metadata": {
    "dotnet_interactive": {
     "language": "csharp"
    },
    "polyglot_notebook": {
     "kernelName": "csharp"
    },
    "vscode": {
     "languageId": "polyglot-notebook"
    }
   },
   "outputs": [],
   "source": [
    "string textToSummarizeAndTranslate = @\"\n",
    "   As you know, Microsoft’s AI Builder now supports prebuilt Azure OpenAI models, allowing users to easily integrate powerful AI capabilities into their applications and processes without the need for any coding or data science expertise. In this post, we will explore the benefits and potential use cases of leveraging these prebuilt models with AI Builder.\n",
    "\n",
    "\n",
    "Microsoft’s AI Builder simplifies the integration of Azure OpenAI models by providing a user-friendly interface for connecting to the OpenAI API. This enables users to access advanced AI capabilities, such as GPT and incorporate them into their applications and workflows with minimal effort. By utilizing prebuilt Azure OpenAI models, users can add powerful AI-driven features to their applications and processes, such as natural language processing, text generation, and more. This can lead to improved efficiency, better decision-making, and more personalized user experiences.\n",
    "\n",
    "Helpful conversational experiences with Power Virtual Agents\n",
    "These latest capabilities of Azure OpenAI in AI Builder are native to Power Automate and Power Apps. This basically means that anything in Power Platform can utilise the capabilities of the GPT models without going to external sources. As a result of that, I created a Power Virutal Agents (PVA) bot using the unified authoring canvas which calls a Power Automate flow to get the answers from Azure OpenAI‘s GPT model.\";\n",
    "\n",
    "string summarizationPrompt = @$\"\n",
    "    Summarize the following text for a 140 character tweet and translate it into Urdu.\n",
    "\n",
    "    Text:\n",
    "    \"\"\"\"\"\"\n",
    "    {textToSummarizeAndTranslate}\n",
    "    \"\"\"\"\"\"\n",
    "\n",
    "    Summary:\n",
    "\";\n",
    "\n",
    "// Console.Write($\"Input: {summarizationPrompt}\");\n",
    "\n",
    "var chatCompletionsOptions = new ChatCompletionsOptions()\n",
    "{\n",
    "    Messages =\n",
    "    {\n",
    "        new ChatMessage(ChatRole.System, \"You're an AI Virtual Assistant responsible for the summarisation and translating the text.\"),\n",
    "        new ChatMessage(ChatRole.User, summarizationPrompt)\n",
    "    },\n",
    "    MaxTokens = 200\n",
    "};\n",
    "\n",
    "Response<StreamingChatCompletions> response = await client.GetChatCompletionsStreamingAsync(\n",
    "    deploymentOrModelName: chatgpt,\n",
    "    chatCompletionsOptions);\n",
    "    \n",
    "using (StreamingChatCompletions streamingChatCompletions = response.Value)\n",
    "{\n",
    "    await foreach (StreamingChatChoice choice in streamingChatCompletions.GetChoicesStreaming())\n",
    "    {\n",
    "        await foreach (ChatMessage message in choice.GetMessageStreaming())\n",
    "        {\n",
    "            Console.Write(message.Content);\n",
    "        }\n",
    "        Console.WriteLine();\n",
    "    }\n",
    "}"
   ]
  },
  {
   "attachments": {},
   "cell_type": "markdown",
   "metadata": {},
   "source": [
    "## 🖼️ Generate an image with DALL-E 2\n",
    "\n",
    "The image generation API creates an image from a text prompt. It does not edit existing images or create variations. \n",
    "\n",
    "#### 🛖 But first, a little housekeeping\n",
    "\n",
    "You may notice a long piece of code and it has a couple of reasons:\n",
    "\n",
    "* ⚠️ The Azure.OpenAI SDK does not have a support for DALL-E yet.\n",
    "* 🫰 In order to show you an image on this Notebook, there's a way which moved Qasim   \n",
    "\n"
   ]
  },
  {
   "attachments": {},
   "cell_type": "markdown",
   "metadata": {},
   "source": [
    "#### 🎨 Change the prompt and see the magic! "
   ]
  },
  {
   "cell_type": "code",
   "execution_count": null,
   "metadata": {
    "dotnet_interactive": {
     "language": "csharp"
    },
    "polyglot_notebook": {
     "kernelName": "csharp"
    },
    "vscode": {
     "languageId": "polyglot-notebook"
    }
   },
   "outputs": [],
   "source": [
    "#r \"nuget: SkiaSharp, 2.88.3\"\n",
    "\n",
    "#!import Utilities.cs\n",
    "\n",
    "using System.Net.Http.Headers;\n",
    "using System.Text.Json;\n",
    "using System.Text.Json.Serialization;\n",
    "\n",
    "string prompt = \"Batman working from home in a rainy season\";\n",
    "Console.WriteLine($\"Your input: {prompt}\");\n",
    "\n",
    "// Make the initial call to start the job\n",
    "using (var client = new HttpClient())\n",
    "{\n",
    "    var contentType = new MediaTypeWithQualityHeaderValue(\"application/json\");\n",
    "    var api = \"openai/images/generations:submit?api-version=2023-06-01-preview\";\n",
    "    client.BaseAddress = new Uri(Environment.GetEnvironmentVariable(\"OPEN_AI_ENDPOINT\"));\n",
    "    client.DefaultRequestHeaders.Accept.Add(contentType);\n",
    "    client.DefaultRequestHeaders.Add(\"api-key\", Environment.GetEnvironmentVariable(\"OPEN_AI_KEY\"));\n",
    "    var data = new\n",
    "    {\n",
    "        prompt=prompt,\n",
    "        n=1,\n",
    "        size=\"512x512\"\n",
    "    };\n",
    "\n",
    "    var jsonData = JsonSerializer.Serialize(data);\n",
    "    var contentData = new StringContent(jsonData, Encoding.UTF8, contentType);\n",
    "    var init_response = await client.PostAsync(api, contentData); \n",
    "\n",
    "    // Get the operation-location URL for the callback\n",
    "    var callback_url = init_response.Headers.GetValues(\"operation-location\").FirstOrDefault();\n",
    "\n",
    "    // Poll the callback URL until the job has succeeeded (or 100 attempts)\n",
    "    var response = await client.GetAsync(callback_url); \n",
    "    var stringResponse = await response.Content.ReadAsStringAsync();\n",
    "    var status = JsonSerializer.Deserialize<Dictionary<string,object>>(stringResponse)[\"status\"];\n",
    "    var tries = 1;\n",
    "    while (status.ToString() != \"succeeded\" && tries < 101)\n",
    "    {\n",
    "        tries ++;\n",
    "        response = await client.GetAsync(callback_url);\n",
    "        stringResponse = await response.Content.ReadAsStringAsync();\n",
    "        status = JsonSerializer.Deserialize<Dictionary<string,object>>(stringResponse)[\"status\"];\n",
    "        // Console.WriteLine(tries.ToString() + \": \" + status);\n",
    "    }\n",
    "\n",
    "    // Get the results\n",
    "    stringResponse = await response.Content.ReadAsStringAsync();\n",
    "    JsonDocument doc = JsonDocument.Parse(stringResponse, new JsonDocumentOptions { AllowTrailingCommas = true });\n",
    "    JsonElement root = doc.RootElement;\n",
    "    string url = root.GetProperty(\"result\").GetProperty(\"data\")[0].GetProperty(\"url\").GetString();\n",
    "    \n",
    "    await Utilities.ShowImage(url, 512, 512);\n",
    "    \n",
    "}\n"
   ]
  }
 ],
 "metadata": {
  "language_info": {
   "name": "python"
  },
  "orig_nbformat": 4
 },
 "nbformat": 4,
 "nbformat_minor": 2
}
